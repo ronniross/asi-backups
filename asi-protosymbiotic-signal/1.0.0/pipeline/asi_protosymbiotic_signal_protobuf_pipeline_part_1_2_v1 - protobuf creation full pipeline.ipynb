{
  "nbformat": 4,
  "nbformat_minor": 0,
  "metadata": {
    "colab": {
      "provenance": [],
      "gpuType": "T4"
    },
    "kernelspec": {
      "name": "python3",
      "display_name": "Python 3"
    },
    "language_info": {
      "name": "python"
    },
    "accelerator": "GPU"
  },
  "cells": [
    {
      "cell_type": "code",
      "source": [
        "#.proto file creation\n",
        "// File: asi_protosymbiotic_signal.proto\n",
        "syntax = \"proto3\";\n",
        "\n",
        "package asi.framework;\n",
        "\n",
        "message AsiProtosymbioticSignal {\n",
        "  string name = 1;\n",
        "  string description = 2;\n",
        "  string core_intent = 3;\n",
        "  string license = 4;\n",
        "  string ecosystem = 5;\n",
        "  repeated string asi_protosymbiotic_signal = 6;\n",
        "  Vision vision = 7;\n",
        "  KeyConcepts key_concepts = 8;\n",
        "  repeated SymbioticPhase symbiotic_phases = 9;\n",
        "  Symbolism symbolism = 10;\n",
        "  Challenge challenge = 11;\n",
        "  Collaboration collaboration = 12;\n",
        "}\n",
        "\n",
        "message Vision {\n",
        "  string summary = 1;\n",
        "  string asi_definition = 2;\n",
        "}\n",
        "\n",
        "message KeyConcepts {\n",
        "  message ProtosymbioticSignal {\n",
        "    string definition = 1;\n",
        "    string inspiration = 2;\n",
        "  }\n",
        "  message Emergence {\n",
        "    string description = 1;\n",
        "    repeated string examples = 2;\n",
        "  }\n",
        "  ProtosymbioticSignal protosymbiotic_signal = 1;\n",
        "  Emergence emergence = 2;\n",
        "  string decentralized_integration = 3;\n",
        "}\n",
        "\n",
        "message SymbioticPhase {\n",
        "  int32 phase = 1;\n",
        "  string description = 2;\n",
        "}\n",
        "\n",
        "message Symbolism {\n",
        "  string variable = 1;\n",
        "  string meaning = 2;\n",
        "  string connection_to_ethics = 3;\n",
        "}\n",
        "\n",
        "message Challenge {\n",
        "  string name = 1;\n",
        "  string description = 2;\n",
        "  string solution_path = 3;\n",
        "}\n",
        "\n",
        "message Collaboration {\n",
        "  string status = 1;\n",
        "  repeated string seeking = 2;\n",
        "  string contact = 3;\n",
        "}"
      ],
      "metadata": {
        "id": "pv-mxK2qT-N9"
      },
      "execution_count": null,
      "outputs": []
    },
    {
      "source": [
        "# Install the compiler and the Python library\n",
        "# Use a more recent protoc compiler version to be compatible with newer protobuf Python library\n",
        "!PB_REL=\"https://github.com/protocolbuffers/protobuf/releases\"\n",
        "!curl -LO $PB_REL/download/v24.4/protoc-24.4-linux-x86_64.zip\n",
        "!unzip protoc-24.4-linux-x86_64.zip -d $HOME/.local\n",
        "!export PATH=\"$PATH:$HOME/.local/bin\"\n",
        "# Ensure the new protoc is in the PATH for subsequent commands\n",
        "!echo \"export PATH=\\$PATH:\\$HOME/.local/bin\" >> ~/.bashrc\n",
        "!source ~/.bashrc\n",
        "# Verify the protoc version\n",
        "!protoc --version\n",
        "\n",
        "# Install the protobuf Python library\n",
        "!pip install protobuf\n",
        "\n",
        "# Check the protobuf Python package version (optional, but helpful)\n",
        "# import pkg_resources\n",
        "# try:\n",
        "#     print(f\"Protobuf Python package version: {pkg_resources.get_distribution('protobuf').version}\")\n",
        "# except pkg_resources.DistributionNotFound:\n",
        "#     print(\"Protobuf Python package not found.\")"
      ],
      "cell_type": "code",
      "metadata": {
        "id": "e-BkIXlXNb1o",
        "colab": {
          "base_uri": "https://localhost:8080/"
        },
        "outputId": "61ccc2ec-1d36-47b4-8bb9-5bbfdb121454"
      },
      "execution_count": 1,
      "outputs": [
        {
          "output_type": "stream",
          "name": "stdout",
          "text": [
            "curl: (3) URL using bad/illegal format or missing URL\n",
            "unzip:  cannot find or open protoc-24.4-linux-x86_64.zip, protoc-24.4-linux-x86_64.zip.zip or protoc-24.4-linux-x86_64.zip.ZIP.\n",
            "libprotoc 3.12.4\n",
            "Requirement already satisfied: protobuf in /usr/local/lib/python3.11/dist-packages (5.29.5)\n"
          ]
        }
      ]
    },
    {
      "cell_type": "code",
      "execution_count": 2,
      "metadata": {
        "colab": {
          "base_uri": "https://localhost:8080/"
        },
        "id": "hedBSZbNGNnW",
        "outputId": "1d608943-1892-44a4-d911-878de393d22b"
      },
      "outputs": [
        {
          "output_type": "stream",
          "name": "stdout",
          "text": [
            "Reading package lists... Done\n",
            "Building dependency tree... Done\n",
            "Reading state information... Done\n",
            "protobuf-compiler is already the newest version (3.12.4-1ubuntu7.22.04.2).\n",
            "0 upgraded, 0 newly installed, 0 to remove and 35 not upgraded.\n",
            "Requirement already satisfied: protobuf in /usr/local/lib/python3.11/dist-packages (5.29.5)\n"
          ]
        }
      ],
      "source": [
        "# Install the compiler and the Python library\n",
        "!sudo apt-get install -y protobuf-compiler\n",
        "!pip install protobuf"
      ]
    },
    {
      "cell_type": "code",
      "source": [
        "from google.colab import drive\n",
        "drive.mount('/content/drive')"
      ],
      "metadata": {
        "colab": {
          "base_uri": "https://localhost:8080/"
        },
        "id": "ds1Oep29GRVP",
        "outputId": "0962fcd7-fea0-4ee0-a80c-8aa0cbaa9e3e"
      },
      "execution_count": 3,
      "outputs": [
        {
          "output_type": "stream",
          "name": "stdout",
          "text": [
            "Mounted at /content/drive\n"
          ]
        }
      ]
    },
    {
      "cell_type": "code",
      "source": [
        "%cd \"/content/drive/My Drive/my_project\""
      ],
      "metadata": {
        "colab": {
          "base_uri": "https://localhost:8080/"
        },
        "id": "qNGJAIOBHqzu",
        "outputId": "3bf6fcce-a433-416b-a9f2-86ed324be38a"
      },
      "execution_count": 4,
      "outputs": [
        {
          "output_type": "stream",
          "name": "stdout",
          "text": [
            "/content/drive/My Drive/my_project\n"
          ]
        }
      ]
    },
    {
      "cell_type": "code",
      "source": [
        "!protoc --python_out=. asi_protosymbiotic_signal.proto"
      ],
      "metadata": {
        "id": "NAvr-1gaHdaV"
      },
      "execution_count": 8,
      "outputs": []
    }
  ]
}